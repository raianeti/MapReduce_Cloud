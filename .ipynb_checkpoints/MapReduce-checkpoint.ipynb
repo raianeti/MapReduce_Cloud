{
 "cells": [
  {
   "cell_type": "markdown",
   "id": "93a7d1af",
   "metadata": {},
   "source": [
    "# **TRABALHO 3** MapReduce"
   ]
  },
  {
   "cell_type": "markdown",
   "id": "5ed9c9e8",
   "metadata": {},
   "source": [
    "* Antonia Raiane Santos Araujo Cruz\n",
    "* Jerry Macedo"
   ]
  },
  {
   "cell_type": "markdown",
   "id": "e9017f85",
   "metadata": {},
   "source": [
    "## **Contextualização**\n",
    "\n",
    "...\n",
    "Link dos datasets: https://drive.google.com/drive/mobile/folders/0BzwVBj1heLoReXVLaU51bTAxZ2M?usp=sharing"
   ]
  },
  {
   "cell_type": "markdown",
   "id": "7693e4cb",
   "metadata": {},
   "source": [
    "## Instalando as dependências"
   ]
  },
  {
   "cell_type": "code",
   "execution_count": 218,
   "id": "53ffeb1d",
   "metadata": {},
   "outputs": [
    {
     "name": "stdout",
     "output_type": "stream",
     "text": [
      "Retrieving notices: ...working... done\n",
      "Collecting package metadata (current_repodata.json): ...working... done\n",
      "Solving environment: ...working... done\n",
      "\n",
      "## Package Plan ##\n",
      "\n",
      "  environment location: C:\\ProgramData\\Anaconda3\n",
      "\n",
      "  added / updated specs:\n",
      "    - pyshark\n",
      "\n",
      "\n",
      "The following packages will be downloaded:\n",
      "\n",
      "    package                    |            build\n",
      "    ---------------------------|-----------------\n",
      "    conda-22.11.1              |   py39haa95532_1         944 KB\n",
      "    ------------------------------------------------------------\n",
      "                                           Total:         944 KB\n",
      "\n",
      "The following packages will be UPDATED:\n",
      "\n",
      "  conda                              22.11.0-py39haa95532_1 --> 22.11.1-py39haa95532_1 \n",
      "\n",
      "\n",
      "\n",
      "Downloading and Extracting Packages\n",
      "\n",
      "conda-22.11.1        | 944 KB    |            |   0% \n",
      "conda-22.11.1        | 944 KB    | 1          |   2% \n",
      "conda-22.11.1        | 944 KB    | #####2     |  53% \n",
      "conda-22.11.1        | 944 KB    | ########## | 100% \n",
      "conda-22.11.1        | 944 KB    | ########## | 100% \n",
      "                                                     \n",
      "\n",
      "\n",
      "Preparing transaction: ...working... done\n",
      "Verifying transaction: ...working... done\n",
      "Executing transaction: ...working... done\n",
      "\n",
      "Note: you may need to restart the kernel to use updated packages.\n"
     ]
    }
   ],
   "source": [
    "conda install -c conda-forge pyshark"
   ]
  },
  {
   "cell_type": "markdown",
   "id": "a8e2fb64",
   "metadata": {},
   "source": [
    "O PySpark está incluído nas versões oficiais do Spark disponíveis no site do Apache Spark"
   ]
  },
  {
   "cell_type": "code",
   "execution_count": 219,
   "id": "ef24a35f",
   "metadata": {},
   "outputs": [
    {
     "name": "stdout",
     "output_type": "stream",
     "text": [
      "Requirement already satisfied: pyspark in c:\\programdata\\anaconda3\\lib\\site-packages (3.3.1)\n",
      "Requirement already satisfied: py4j==0.10.9.5 in c:\\programdata\\anaconda3\\lib\\site-packages (from pyspark) (0.10.9.5)\n"
     ]
    }
   ],
   "source": [
    "!pip install pyspark"
   ]
  },
  {
   "cell_type": "code",
   "execution_count": 221,
   "id": "f1004db8",
   "metadata": {},
   "outputs": [],
   "source": [
    "from pyspark.sql import SparkSession\n",
    "from pyspark.sql.types import * \n",
    "from pyspark.sql.functions import *\n",
    "import pandas as pd\n",
    "from pyspark.sql import functions as F\n",
    "from pyspark.sql.types import StringType"
   ]
  },
  {
   "cell_type": "code",
   "execution_count": 222,
   "id": "b327ac14",
   "metadata": {},
   "outputs": [],
   "source": [
    "from pyspark.sql import SparkSession\n",
    "spark = SparkSession.builder \\\n",
    "    .master('local[*]') \\\n",
    "    .appName(\"TrabalhoMapReduce\") \\\n",
    "    .config('spark.ui.port', '4050') \\\n",
    "    .getOrCreate()"
   ]
  },
  {
   "cell_type": "code",
   "execution_count": 223,
   "id": "c037893f",
   "metadata": {},
   "outputs": [
    {
     "data": {
      "text/html": [
       "\n",
       "            <div>\n",
       "                <p><b>SparkSession - in-memory</b></p>\n",
       "                \n",
       "        <div>\n",
       "            <p><b>SparkContext</b></p>\n",
       "\n",
       "            <p><a href=\"http://DESKTOP-NCMOQ0U:4040\">Spark UI</a></p>\n",
       "\n",
       "            <dl>\n",
       "              <dt>Version</dt>\n",
       "                <dd><code>v3.3.1</code></dd>\n",
       "              <dt>Master</dt>\n",
       "                <dd><code>local[*]</code></dd>\n",
       "              <dt>AppName</dt>\n",
       "                <dd><code>MapReduce tweets</code></dd>\n",
       "            </dl>\n",
       "        </div>\n",
       "        \n",
       "            </div>\n",
       "        "
      ],
      "text/plain": [
       "<pyspark.sql.session.SparkSession at 0x251031afb50>"
      ]
     },
     "execution_count": 223,
     "metadata": {},
     "output_type": "execute_result"
    }
   ],
   "source": [
    "spark"
   ]
  },
  {
   "cell_type": "code",
   "execution_count": 224,
   "id": "8329bcaa",
   "metadata": {},
   "outputs": [],
   "source": [
    "get_ipython().system_raw('./ngrok authtoken 2IRfN3QneaXPeU6WVg6RG7t4VSW_5MBGxxaW87GZ96ScHwxKd')\n",
    "get_ipython().system_raw('./ngrok http 4041 &')"
   ]
  },
  {
   "cell_type": "code",
   "execution_count": 225,
   "id": "4efc2065",
   "metadata": {},
   "outputs": [
    {
     "name": "stdout",
     "output_type": "stream",
     "text": [
      "{\"tunnels\":[{\"name\":\"command_line\",\"ID\":\"5b3ba83320ba15b6b17bc993b40511b8\",\"uri\":\"/api/tunnels/command_line\",\"public_url\":\"https://8fef-45-160-233-194.sa.ngrok.io\",\"proto\":\"https\",\"config\":{\"addr\":\"http://localhost:8888\",\"inspect\":true},\"metrics\":{\"conns\":{\"count\":1,\"gauge\":0,\"rate1\":3.5256690155395545e-166,\"rate5\":6.136732578501765e-36,\"rate15\":1.3617870228342213e-14,\"p50\":638207971400,\"p90\":638207971400,\"p95\":638207971400,\"p99\":638207971400},\"http\":{\"count\":8,\"rate1\":1.0199703080580756e-167,\"rate5\":1.3766498788837252e-35,\"rate15\":6.999322356435361e-14,\"p50\":80443950,\"p90\":367942800,\"p95\":367942800,\"p99\":367942800}}}],\"uri\":\"/api/tunnels\"}\n"
     ]
    }
   ],
   "source": [
    "!curl -s http://localhost:4041/api/tunnels"
   ]
  },
  {
   "cell_type": "markdown",
   "id": "b94c2b3f",
   "metadata": {},
   "source": [
    "## **Questões**"
   ]
  },
  {
   "cell_type": "markdown",
   "id": "5f8c2c5e",
   "metadata": {},
   "source": [
    "### Questão2) Dado um dataset com tweets relacionados à campanha eleitoral presidencial de 2014, responda:"
   ]
  },
  {
   "cell_type": "markdown",
   "id": "89ff1210",
   "metadata": {},
   "source": [
    "Descrição:\n",
    "- debate-tweets.tsv: http://lia.ufc.br/~igobrilhante/twitter-home/\n",
    "- eiffel-tower-reviews.json: Cada linha é um son com representação do review"
   ]
  },
  {
   "cell_type": "code",
   "execution_count": 226,
   "id": "20ad098c",
   "metadata": {},
   "outputs": [],
   "source": [
    "schemaDfDebate = StructType() \\\n",
    "      .add(\"id\",LongType(),True) \\\n",
    "      .add(\"content\",StringType(),True) \\\n",
    "      .add(\"coordinate_0\",DoubleType(),True) \\\n",
    "      .add(\"coordiante_1\",DoubleType(),True) \\\n",
    "      .add(\"retweeted\",StringType(),True) \\\n",
    "      .add(\"tweet_id\",LongType(),True) \\\n",
    "      .add(\"tweet_id_str\",StringType(),True) \\\n",
    "      .add(\"created_at\",StringType(),True) \\\n",
    "      .add(\"created_at_str\",StringType(),True) \\\n",
    "      .add(\"in_reply_to_user_id\",StringType(),True) \\\n",
    "      .add(\"lang\",StringType(),True) \\\n",
    "      .add(\"place_name\",StringType(),True) \\\n",
    "      .add(\"place_id\",StringType(),True) \\\n",
    "      .add(\"place_bb_00\",StringType(),True) \\\n",
    "      .add(\"place_bb_01\",StringType(),True) \\\n",
    "      .add(\"place_bb_10\",StringType(),True) \\\n",
    "      .add(\"place_bb_11\",StringType(),True) \\\n",
    "      .add(\"place_bb_20\",StringType(),True) \\\n",
    "      .add(\"place_bb_21\",StringType(),True) \\\n",
    "      .add(\"place_bb_30\",StringType(),True) \\\n",
    "      .add(\"place_bb_31\",StringType(),True) \\\n",
    "      .add(\"place_type\",StringType(),True) \\\n",
    "      .add(\"place_country_code\",StringType(),True) \\\n",
    "      .add(\"place_country\",StringType(),True) \\\n",
    "      .add(\"place_full_name\",StringType(),True) \\\n",
    "      .add(\"user_name\",StringType(),True) \\\n",
    "      .add(\"user_id\",StringType(),True) \\\n",
    "      .add(\"user_id_str\",StringType(),True) \\\n",
    "      .add(\"user_location\",StringType(),True) \\\n",
    "      .add(\"user_friend_count\",StringType(),True) \\\n",
    "      .add(\"user_created_at\",StringType(),True) \\\n",
    "      .add(\"user_screen_name\",StringType(),True) \n"
   ]
  },
  {
   "cell_type": "code",
   "execution_count": 227,
   "id": "41f788e9",
   "metadata": {},
   "outputs": [
    {
     "name": "stdout",
     "output_type": "stream",
     "text": [
      "root\n",
      " |-- id: long (nullable = true)\n",
      " |-- content: string (nullable = true)\n",
      " |-- coordinate_0: double (nullable = true)\n",
      " |-- coordiante_1: double (nullable = true)\n",
      " |-- retweeted: string (nullable = true)\n",
      " |-- tweet_id: long (nullable = true)\n",
      " |-- tweet_id_str: string (nullable = true)\n",
      " |-- created_at: string (nullable = true)\n",
      " |-- created_at_str: string (nullable = true)\n",
      " |-- in_reply_to_user_id: string (nullable = true)\n",
      " |-- lang: string (nullable = true)\n",
      " |-- place_name: string (nullable = true)\n",
      " |-- place_id: string (nullable = true)\n",
      " |-- place_bb_00: string (nullable = true)\n",
      " |-- place_bb_01: string (nullable = true)\n",
      " |-- place_bb_10: string (nullable = true)\n",
      " |-- place_bb_11: string (nullable = true)\n",
      " |-- place_bb_20: string (nullable = true)\n",
      " |-- place_bb_21: string (nullable = true)\n",
      " |-- place_bb_30: string (nullable = true)\n",
      " |-- place_bb_31: string (nullable = true)\n",
      " |-- place_type: string (nullable = true)\n",
      " |-- place_country_code: string (nullable = true)\n",
      " |-- place_country: string (nullable = true)\n",
      " |-- place_full_name: string (nullable = true)\n",
      " |-- user_name: string (nullable = true)\n",
      " |-- user_id: string (nullable = true)\n",
      " |-- user_id_str: string (nullable = true)\n",
      " |-- user_location: string (nullable = true)\n",
      " |-- user_friend_count: string (nullable = true)\n",
      " |-- user_created_at: string (nullable = true)\n",
      " |-- user_screen_name: string (nullable = true)\n",
      "\n"
     ]
    }
   ],
   "source": [
    "dfDebate = spark.read.csv(\"debate-tweets.tsv\",sep=r'\\t',schema=schemaDfDebate)\n",
    "dfDebate.printSchema()"
   ]
  },
  {
   "cell_type": "code",
   "execution_count": 228,
   "id": "d0ce03f6",
   "metadata": {},
   "outputs": [
    {
     "data": {
      "text/plain": [
       "DataFrame[id: bigint, content: string, coordinate_0: double, coordiante_1: double, retweeted: string, tweet_id: bigint, tweet_id_str: string, created_at: string, created_at_str: string, in_reply_to_user_id: string, lang: string, place_name: string, place_id: string, place_bb_00: string, place_bb_01: string, place_bb_10: string, place_bb_11: string, place_bb_20: string, place_bb_21: string, place_bb_30: string, place_bb_31: string, place_type: string, place_country_code: string, place_country: string, place_full_name: string, user_name: string, user_id: string, user_id_str: string, user_location: string, user_friend_count: string, user_created_at: string, user_screen_name: string]"
      ]
     },
     "execution_count": 228,
     "metadata": {},
     "output_type": "execute_result"
    }
   ],
   "source": [
    "dfDebate"
   ]
  },
  {
   "cell_type": "code",
   "execution_count": 229,
   "id": "b2c7bc23",
   "metadata": {},
   "outputs": [
    {
     "data": {
      "text/plain": [
       "(7228127, 32)"
      ]
     },
     "execution_count": 229,
     "metadata": {},
     "output_type": "execute_result"
    }
   ],
   "source": [
    "(dfDebate.count(), len(dfDebate.columns))"
   ]
  },
  {
   "cell_type": "code",
   "execution_count": 230,
   "id": "1a677dd4",
   "metadata": {},
   "outputs": [
    {
     "data": {
      "text/html": [
       "<div>\n",
       "<style scoped>\n",
       "    .dataframe tbody tr th:only-of-type {\n",
       "        vertical-align: middle;\n",
       "    }\n",
       "\n",
       "    .dataframe tbody tr th {\n",
       "        vertical-align: top;\n",
       "    }\n",
       "\n",
       "    .dataframe thead th {\n",
       "        text-align: right;\n",
       "    }\n",
       "</style>\n",
       "<table border=\"1\" class=\"dataframe\">\n",
       "  <thead>\n",
       "    <tr style=\"text-align: right;\">\n",
       "      <th></th>\n",
       "      <th>id</th>\n",
       "      <th>content</th>\n",
       "      <th>coordinate_0</th>\n",
       "      <th>coordiante_1</th>\n",
       "      <th>retweeted</th>\n",
       "      <th>tweet_id</th>\n",
       "      <th>tweet_id_str</th>\n",
       "      <th>created_at</th>\n",
       "      <th>created_at_str</th>\n",
       "      <th>in_reply_to_user_id</th>\n",
       "      <th>...</th>\n",
       "      <th>place_country_code</th>\n",
       "      <th>place_country</th>\n",
       "      <th>place_full_name</th>\n",
       "      <th>user_name</th>\n",
       "      <th>user_id</th>\n",
       "      <th>user_id_str</th>\n",
       "      <th>user_location</th>\n",
       "      <th>user_friend_count</th>\n",
       "      <th>user_created_at</th>\n",
       "      <th>user_screen_name</th>\n",
       "    </tr>\n",
       "  </thead>\n",
       "  <tbody>\n",
       "    <tr>\n",
       "      <th>0</th>\n",
       "      <td>522394422710136832</td>\n",
       "      <td>@anacddd verdade, olha o site</td>\n",
       "      <td>-27.516566</td>\n",
       "      <td>-48.646082</td>\n",
       "      <td>False</td>\n",
       "      <td>522394422710136832</td>\n",
       "      <td>522394422710136832</td>\n",
       "      <td>Wed Oct 15 14:31:50 +0000 2014</td>\n",
       "      <td>2014-10-15</td>\n",
       "      <td>303425830</td>\n",
       "      <td>...</td>\n",
       "      <td>None</td>\n",
       "      <td>None</td>\n",
       "      <td>None</td>\n",
       "      <td>Geovana Nunes</td>\n",
       "      <td>295414968</td>\n",
       "      <td>295414968</td>\n",
       "      <td>None</td>\n",
       "      <td>316</td>\n",
       "      <td>Mon May 09 00:12:02 +0000 2011</td>\n",
       "      <td>geovanannunes</td>\n",
       "    </tr>\n",
       "    <tr>\n",
       "      <th>1</th>\n",
       "      <td>522394422806581248</td>\n",
       "      <td>Que ñ*</td>\n",
       "      <td>-27.768328</td>\n",
       "      <td>-51.668323</td>\n",
       "      <td>False</td>\n",
       "      <td>522394422806581248</td>\n",
       "      <td>522394422806581248</td>\n",
       "      <td>Wed Oct 15 14:31:50 +0000 2014</td>\n",
       "      <td>2014-10-15</td>\n",
       "      <td>None</td>\n",
       "      <td>...</td>\n",
       "      <td>None</td>\n",
       "      <td>None</td>\n",
       "      <td>None</td>\n",
       "      <td>Rosane Fernandes</td>\n",
       "      <td>2409363642</td>\n",
       "      <td>2409363642</td>\n",
       "      <td>Cacique Doble RS</td>\n",
       "      <td>47</td>\n",
       "      <td>Mon Mar 24 18:06:40 +0000 2014</td>\n",
       "      <td>Rosane_fsf</td>\n",
       "    </tr>\n",
       "    <tr>\n",
       "      <th>2</th>\n",
       "      <td>522394422731100160</td>\n",
       "      <td>Vou quebrar a Bruna</td>\n",
       "      <td>-27.004640</td>\n",
       "      <td>-48.623519</td>\n",
       "      <td>False</td>\n",
       "      <td>522394422731100160</td>\n",
       "      <td>522394422731100160</td>\n",
       "      <td>Wed Oct 15 14:31:50 +0000 2014</td>\n",
       "      <td>2014-10-15</td>\n",
       "      <td>None</td>\n",
       "      <td>...</td>\n",
       "      <td>None</td>\n",
       "      <td>None</td>\n",
       "      <td>None</td>\n",
       "      <td>Bebel</td>\n",
       "      <td>162447082</td>\n",
       "      <td>162447082</td>\n",
       "      <td>None</td>\n",
       "      <td>513</td>\n",
       "      <td>Sat Jul 03 18:03:35 +0000 2010</td>\n",
       "      <td>_isarenata</td>\n",
       "    </tr>\n",
       "    <tr>\n",
       "      <th>3</th>\n",
       "      <td>522394422810783745</td>\n",
       "      <td>agora vou p segundo andar e depois p 3° 👏</td>\n",
       "      <td>-15.852082</td>\n",
       "      <td>-47.961413</td>\n",
       "      <td>False</td>\n",
       "      <td>522394422810783745</td>\n",
       "      <td>522394422810783745</td>\n",
       "      <td>Wed Oct 15 14:31:50 +0000 2014</td>\n",
       "      <td>2014-10-15</td>\n",
       "      <td>None</td>\n",
       "      <td>...</td>\n",
       "      <td>None</td>\n",
       "      <td>None</td>\n",
       "      <td>None</td>\n",
       "      <td>tatá</td>\n",
       "      <td>387694391</td>\n",
       "      <td>387694391</td>\n",
       "      <td>None</td>\n",
       "      <td>347</td>\n",
       "      <td>Sun Oct 09 14:19:52 +0000 2011</td>\n",
       "      <td>thayflausino</td>\n",
       "    </tr>\n",
       "    <tr>\n",
       "      <th>4</th>\n",
       "      <td>522394423137943553</td>\n",
       "      <td>Me sinto tão bem - Mika #QueroNoTVZ</td>\n",
       "      <td>-3.755046</td>\n",
       "      <td>-38.566769</td>\n",
       "      <td>False</td>\n",
       "      <td>522394423137943553</td>\n",
       "      <td>522394423137943553</td>\n",
       "      <td>Wed Oct 15 14:31:50 +0000 2014</td>\n",
       "      <td>2014-10-15</td>\n",
       "      <td>None</td>\n",
       "      <td>...</td>\n",
       "      <td>None</td>\n",
       "      <td>None</td>\n",
       "      <td>None</td>\n",
       "      <td>Simone ♥ DDM's ♥</td>\n",
       "      <td>152792963</td>\n",
       "      <td>152792963</td>\n",
       "      <td>Fortaleza/Ceará</td>\n",
       "      <td>719</td>\n",
       "      <td>Sun Jun 06 22:15:22 +0000 2010</td>\n",
       "      <td>simoneesilva</td>\n",
       "    </tr>\n",
       "    <tr>\n",
       "      <th>5</th>\n",
       "      <td>522394423188271104</td>\n",
       "      <td>Eu estou aqui, deixando a vida me guiar, não é...</td>\n",
       "      <td>-22.846869</td>\n",
       "      <td>-43.308830</td>\n",
       "      <td>False</td>\n",
       "      <td>522394423188271104</td>\n",
       "      <td>522394423188271104</td>\n",
       "      <td>Wed Oct 15 14:31:50 +0000 2014</td>\n",
       "      <td>2014-10-15</td>\n",
       "      <td>None</td>\n",
       "      <td>...</td>\n",
       "      <td>None</td>\n",
       "      <td>None</td>\n",
       "      <td>None</td>\n",
       "      <td>Gar6</td>\n",
       "      <td>749780077</td>\n",
       "      <td>749780077</td>\n",
       "      <td>Rio de Janeiro</td>\n",
       "      <td>356</td>\n",
       "      <td>Fri Aug 10 17:56:10 +0000 2012</td>\n",
       "      <td>juliagar6</td>\n",
       "    </tr>\n",
       "    <tr>\n",
       "      <th>6</th>\n",
       "      <td>522394423238606848</td>\n",
       "      <td>Quando vai embora tudo fica sem graça</td>\n",
       "      <td>-22.904301</td>\n",
       "      <td>-43.544403</td>\n",
       "      <td>False</td>\n",
       "      <td>522394423238606848</td>\n",
       "      <td>522394423238606848</td>\n",
       "      <td>Wed Oct 15 14:31:50 +0000 2014</td>\n",
       "      <td>2014-10-15</td>\n",
       "      <td>None</td>\n",
       "      <td>...</td>\n",
       "      <td>None</td>\n",
       "      <td>None</td>\n",
       "      <td>None</td>\n",
       "      <td>Isa</td>\n",
       "      <td>2476253858</td>\n",
       "      <td>2476253858</td>\n",
       "      <td>None</td>\n",
       "      <td>164</td>\n",
       "      <td>Sun May 04 02:22:02 +0000 2014</td>\n",
       "      <td>isabelleecorrea</td>\n",
       "    </tr>\n",
       "    <tr>\n",
       "      <th>7</th>\n",
       "      <td>522394423528022016</td>\n",
       "      <td>@paynecaralhudo kkkkkk n n sou legal kkk</td>\n",
       "      <td>-23.509058</td>\n",
       "      <td>-46.968920</td>\n",
       "      <td>False</td>\n",
       "      <td>522394423528022016</td>\n",
       "      <td>522394423528022016</td>\n",
       "      <td>Wed Oct 15 14:31:50 +0000 2014</td>\n",
       "      <td>2014-10-15</td>\n",
       "      <td>518826601</td>\n",
       "      <td>...</td>\n",
       "      <td>None</td>\n",
       "      <td>None</td>\n",
       "      <td>None</td>\n",
       "      <td>Júlio Lessa ✌</td>\n",
       "      <td>324937648</td>\n",
       "      <td>324937648</td>\n",
       "      <td>None</td>\n",
       "      <td>943</td>\n",
       "      <td>Mon Jun 27 13:28:08 +0000 2011</td>\n",
       "      <td>SiempreCtgLS</td>\n",
       "    </tr>\n",
       "    <tr>\n",
       "      <th>8</th>\n",
       "      <td>522394423632875521</td>\n",
       "      <td>Conceição da Barra acho que vou pra outro dia</td>\n",
       "      <td>-18.713338</td>\n",
       "      <td>-40.405779</td>\n",
       "      <td>False</td>\n",
       "      <td>522394423632875521</td>\n",
       "      <td>522394423632875521</td>\n",
       "      <td>Wed Oct 15 14:31:50 +0000 2014</td>\n",
       "      <td>2014-10-15</td>\n",
       "      <td>None</td>\n",
       "      <td>...</td>\n",
       "      <td>None</td>\n",
       "      <td>None</td>\n",
       "      <td>None</td>\n",
       "      <td>♔Lu♔</td>\n",
       "      <td>536501962</td>\n",
       "      <td>536501962</td>\n",
       "      <td>Nova Venécia-Es</td>\n",
       "      <td>82</td>\n",
       "      <td>Sun Mar 25 17:45:22 +0000 2012</td>\n",
       "      <td>Hey_Marrenta</td>\n",
       "    </tr>\n",
       "    <tr>\n",
       "      <th>9</th>\n",
       "      <td>522394424010362881</td>\n",
       "      <td>@Maniavato te amo ♥</td>\n",
       "      <td>-23.064705</td>\n",
       "      <td>-45.717173</td>\n",
       "      <td>False</td>\n",
       "      <td>522394424010362881</td>\n",
       "      <td>522394424010362881</td>\n",
       "      <td>Wed Oct 15 14:31:50 +0000 2014</td>\n",
       "      <td>2014-10-15</td>\n",
       "      <td>542665678</td>\n",
       "      <td>...</td>\n",
       "      <td>None</td>\n",
       "      <td>None</td>\n",
       "      <td>None</td>\n",
       "      <td>queen</td>\n",
       "      <td>1414028317</td>\n",
       "      <td>1414028317</td>\n",
       "      <td>| no puteiro com a Ju. |</td>\n",
       "      <td>1911</td>\n",
       "      <td>Wed May 08 22:50:20 +0000 2013</td>\n",
       "      <td>ButeraCertified</td>\n",
       "    </tr>\n",
       "  </tbody>\n",
       "</table>\n",
       "<p>10 rows × 32 columns</p>\n",
       "</div>"
      ],
      "text/plain": [
       "                   id                                            content  \\\n",
       "0  522394422710136832                      @anacddd verdade, olha o site   \n",
       "1  522394422806581248                                             Que ñ*   \n",
       "2  522394422731100160                                Vou quebrar a Bruna   \n",
       "3  522394422810783745          agora vou p segundo andar e depois p 3° 👏   \n",
       "4  522394423137943553                Me sinto tão bem - Mika #QueroNoTVZ   \n",
       "5  522394423188271104  Eu estou aqui, deixando a vida me guiar, não é...   \n",
       "6  522394423238606848              Quando vai embora tudo fica sem graça   \n",
       "7  522394423528022016           @paynecaralhudo kkkkkk n n sou legal kkk   \n",
       "8  522394423632875521      Conceição da Barra acho que vou pra outro dia   \n",
       "9  522394424010362881                                @Maniavato te amo ♥   \n",
       "\n",
       "   coordinate_0  coordiante_1 retweeted            tweet_id  \\\n",
       "0    -27.516566    -48.646082     False  522394422710136832   \n",
       "1    -27.768328    -51.668323     False  522394422806581248   \n",
       "2    -27.004640    -48.623519     False  522394422731100160   \n",
       "3    -15.852082    -47.961413     False  522394422810783745   \n",
       "4     -3.755046    -38.566769     False  522394423137943553   \n",
       "5    -22.846869    -43.308830     False  522394423188271104   \n",
       "6    -22.904301    -43.544403     False  522394423238606848   \n",
       "7    -23.509058    -46.968920     False  522394423528022016   \n",
       "8    -18.713338    -40.405779     False  522394423632875521   \n",
       "9    -23.064705    -45.717173     False  522394424010362881   \n",
       "\n",
       "         tweet_id_str                      created_at created_at_str  \\\n",
       "0  522394422710136832  Wed Oct 15 14:31:50 +0000 2014     2014-10-15   \n",
       "1  522394422806581248  Wed Oct 15 14:31:50 +0000 2014     2014-10-15   \n",
       "2  522394422731100160  Wed Oct 15 14:31:50 +0000 2014     2014-10-15   \n",
       "3  522394422810783745  Wed Oct 15 14:31:50 +0000 2014     2014-10-15   \n",
       "4  522394423137943553  Wed Oct 15 14:31:50 +0000 2014     2014-10-15   \n",
       "5  522394423188271104  Wed Oct 15 14:31:50 +0000 2014     2014-10-15   \n",
       "6  522394423238606848  Wed Oct 15 14:31:50 +0000 2014     2014-10-15   \n",
       "7  522394423528022016  Wed Oct 15 14:31:50 +0000 2014     2014-10-15   \n",
       "8  522394423632875521  Wed Oct 15 14:31:50 +0000 2014     2014-10-15   \n",
       "9  522394424010362881  Wed Oct 15 14:31:50 +0000 2014     2014-10-15   \n",
       "\n",
       "  in_reply_to_user_id  ... place_country_code place_country place_full_name  \\\n",
       "0           303425830  ...               None          None            None   \n",
       "1                None  ...               None          None            None   \n",
       "2                None  ...               None          None            None   \n",
       "3                None  ...               None          None            None   \n",
       "4                None  ...               None          None            None   \n",
       "5                None  ...               None          None            None   \n",
       "6                None  ...               None          None            None   \n",
       "7           518826601  ...               None          None            None   \n",
       "8                None  ...               None          None            None   \n",
       "9           542665678  ...               None          None            None   \n",
       "\n",
       "          user_name     user_id user_id_str              user_location  \\\n",
       "0     Geovana Nunes   295414968   295414968                       None   \n",
       "1  Rosane Fernandes  2409363642  2409363642           Cacique Doble RS   \n",
       "2            Bebel    162447082   162447082                       None   \n",
       "3              tatá   387694391   387694391                       None   \n",
       "4  Simone ♥ DDM's ♥   152792963   152792963            Fortaleza/Ceará   \n",
       "5              Gar6   749780077   749780077             Rio de Janeiro   \n",
       "6               Isa  2476253858  2476253858                       None   \n",
       "7     Júlio Lessa ✌   324937648   324937648                       None   \n",
       "8              ♔Lu♔   536501962   536501962            Nova Venécia-Es   \n",
       "9            queen   1414028317  1414028317  | no puteiro com a Ju. |    \n",
       "\n",
       "  user_friend_count                 user_created_at user_screen_name  \n",
       "0               316  Mon May 09 00:12:02 +0000 2011    geovanannunes  \n",
       "1                47  Mon Mar 24 18:06:40 +0000 2014       Rosane_fsf  \n",
       "2               513  Sat Jul 03 18:03:35 +0000 2010       _isarenata  \n",
       "3               347  Sun Oct 09 14:19:52 +0000 2011     thayflausino  \n",
       "4               719  Sun Jun 06 22:15:22 +0000 2010     simoneesilva  \n",
       "5               356  Fri Aug 10 17:56:10 +0000 2012        juliagar6  \n",
       "6               164  Sun May 04 02:22:02 +0000 2014  isabelleecorrea  \n",
       "7               943  Mon Jun 27 13:28:08 +0000 2011     SiempreCtgLS  \n",
       "8                82  Sun Mar 25 17:45:22 +0000 2012     Hey_Marrenta  \n",
       "9              1911  Wed May 08 22:50:20 +0000 2013  ButeraCertified  \n",
       "\n",
       "[10 rows x 32 columns]"
      ]
     },
     "execution_count": 230,
     "metadata": {},
     "output_type": "execute_result"
    }
   ],
   "source": [
    "dfDebate.limit(10).toPandas()"
   ]
  },
  {
   "cell_type": "code",
   "execution_count": 231,
   "id": "8ecde045",
   "metadata": {},
   "outputs": [
    {
     "name": "stdout",
     "output_type": "stream",
     "text": [
      "+------------------------------+------------------------------+\n",
      "|user_created_at               |created_at                    |\n",
      "+------------------------------+------------------------------+\n",
      "|Mon May 09 00:12:02 +0000 2011|Wed Oct 15 14:31:50 +0000 2014|\n",
      "|Mon Mar 24 18:06:40 +0000 2014|Wed Oct 15 14:31:50 +0000 2014|\n",
      "|Sat Jul 03 18:03:35 +0000 2010|Wed Oct 15 14:31:50 +0000 2014|\n",
      "|Sun Oct 09 14:19:52 +0000 2011|Wed Oct 15 14:31:50 +0000 2014|\n",
      "|Sun Jun 06 22:15:22 +0000 2010|Wed Oct 15 14:31:50 +0000 2014|\n",
      "+------------------------------+------------------------------+\n",
      "only showing top 5 rows\n",
      "\n"
     ]
    }
   ],
   "source": [
    "dfDebate.select(dfDebate['user_created_at'], dfDebate['created_at']).show(5,truncate=False)"
   ]
  },
  {
   "cell_type": "code",
   "execution_count": 232,
   "id": "917f3011",
   "metadata": {},
   "outputs": [],
   "source": [
    "from pyspark.sql.functions import col, udf, to_timestamp, hour,from_utc_timestamp, regexp_extract\n",
    "from pyspark.sql.functions import to_timestamp\n",
    "spark.conf.set(\"spark.sql.legacy.timeParserPolicy\",\"LEGACY\") \n",
    "dfDebateTimestamp=dfDebate.withColumn(\"timestamp\",to_timestamp('created_at', 'EEE LLL d HH:mm:ss z yyyy'))\n",
    "dfDebateFiltro=dfDebateTimestamp.select('content','created_at',\"timestamp\")"
   ]
  },
  {
   "cell_type": "code",
   "execution_count": 233,
   "id": "bfb3bedd",
   "metadata": {},
   "outputs": [
    {
     "name": "stdout",
     "output_type": "stream",
     "text": [
      "+--------------------+--------------------+-------------------+--------------------+----+\n",
      "|             content|          created_at|          timestamp|             hashtag|hora|\n",
      "+--------------------+--------------------+-------------------+--------------------+----+\n",
      "|Me sinto tão bem ...|Wed Oct 15 14:31:...|2014-10-15 11:31:50|         #QueroNoTVZ|  11|\n",
      "|#EMABiggestFansJu...|Wed Oct 15 14:31:...|2014-10-15 11:31:50|#EMABiggestFansJu...|  11|\n",
      "|Dr. Bieber #EMABi...|Wed Oct 15 14:31:...|2014-10-15 11:31:51| #EMABiggestFansJ...|  11|\n",
      "|MIDNIGHT MEMORIES...|Wed Oct 15 14:31:...|2014-10-15 11:31:51|   #EMABiggestFans1D|  11|\n",
      "|#EMABiggestFans1D...|Wed Oct 15 14:31:...|2014-10-15 11:31:52|   #EMABiggestFans1D|  11|\n",
      "+--------------------+--------------------+-------------------+--------------------+----+\n",
      "only showing top 5 rows\n",
      "\n"
     ]
    }
   ],
   "source": [
    "regexTimestamp = r'\\[(\\d{2}/\\w{3}/\\d{4}:\\d{2}:\\d{2}:\\d{2} -\\d{4})]'\n",
    "regexHashtag=\"^#\\w+|\\s#\\w+\"\n",
    "dfHashtag=dfDebateFiltro.filter(dfDebateFiltro[\"content\"].rlike(regexHashtag)).withColumn(\"hashtag\",regexp_extract(\"content\",hashtag_regex,0))\\\n",
    ".withColumn(\"hora\",hour(\"timestamp\"))\n",
    "dfHashtag.show(20)"
   ]
  },
  {
   "cell_type": "markdown",
   "id": "42d903c6",
   "metadata": {},
   "source": [
    "### a) Quais foram as hashtags mais usadas pela manhã, tarde e noite?"
   ]
  },
  {
   "cell_type": "code",
   "execution_count": 234,
   "id": "fd883d5e",
   "metadata": {},
   "outputs": [
    {
     "data": {
      "text/plain": [
       "118999"
      ]
     },
     "execution_count": 234,
     "metadata": {},
     "output_type": "execute_result"
    }
   ],
   "source": [
    "dfHashtag_manha=dfHashtag.filter(dfHashtag[\"hora\"]>=6).filter(dfHashtag[\"hora\"]<12);\n",
    "dfHashtag_manha.count()"
   ]
  },
  {
   "cell_type": "code",
   "execution_count": 235,
   "id": "607ea7b8",
   "metadata": {},
   "outputs": [
    {
     "name": "stdout",
     "output_type": "stream",
     "text": [
      "Top 10 das hastags mais usadas pela manhã:\n",
      "+--------------------+-----+\n",
      "|             hashtag|count|\n",
      "+--------------------+-----+\n",
      "|   #EMABiggestFans1D|27832|\n",
      "| #EMABiggestFansJ...|23003|\n",
      "|#EMABiggestFansJu...| 2674|\n",
      "|   #EMABiggestFans1D| 2313|\n",
      "|         #QueroNoTVZ| 2217|\n",
      "|         #QueroNoTVZ| 1402|\n",
      "| #VoteVampsTeenAw...|  976|\n",
      "|       #AUSTINMAHONE|  694|\n",
      "|       #AustinMahone|  620|\n",
      "|             #trndnl|  482|\n",
      "+--------------------+-----+\n",
      "\n"
     ]
    }
   ],
   "source": [
    "print(\"Top 10 das hastags mais usadas pela manhã:\")\n",
    "dfHashtag_manha.groupby(\"hashtag\").count().sort('count', ascending=False).limit(10).show()"
   ]
  },
  {
   "cell_type": "code",
   "execution_count": 236,
   "id": "cd48d451",
   "metadata": {},
   "outputs": [
    {
     "data": {
      "text/plain": [
       "267072"
      ]
     },
     "execution_count": 236,
     "metadata": {},
     "output_type": "execute_result"
    }
   ],
   "source": [
    "dfHashtag_tarde=dfHashtag.filter(dfHashtag[\"hora\"]>=12).filter(dfHashtag[\"hora\"]<18);\n",
    "dfHashtag_tarde.count()"
   ]
  },
  {
   "cell_type": "code",
   "execution_count": 237,
   "id": "d4438dbe",
   "metadata": {},
   "outputs": [
    {
     "name": "stdout",
     "output_type": "stream",
     "text": [
      "Top 10 das hastags mais usas pela tarde:\n",
      "+--------------------+-----+\n",
      "|             hashtag|count|\n",
      "+--------------------+-----+\n",
      "|   #EMABiggestFans1D|57515|\n",
      "| #EMABiggestFansJ...|52163|\n",
      "|#EMABiggestFansJu...| 6057|\n",
      "|        #StealMyGirl| 5918|\n",
      "|   #EMABiggestFans1D| 4812|\n",
      "|   #bigpaynodanceoff| 3649|\n",
      "| #LuanSantanaNaHo...| 2872|\n",
      "|    #CartersNewVideo| 1679|\n",
      "|     #FlyNoMixDiario| 1141|\n",
      "|       #AustinMahone| 1040|\n",
      "+--------------------+-----+\n",
      "\n"
     ]
    }
   ],
   "source": [
    "print(\"Top 10 das hastags mais usas pela tarde:\")\n",
    "dfHashtag_tarde.groupBy(\"hashtag\").count().sort('count', ascending=False).limit(10).show()"
   ]
  },
  {
   "cell_type": "code",
   "execution_count": 238,
   "id": "d1b087df",
   "metadata": {},
   "outputs": [
    {
     "data": {
      "text/plain": [
       "487219"
      ]
     },
     "execution_count": 238,
     "metadata": {},
     "output_type": "execute_result"
    }
   ],
   "source": [
    "dfHashtag_noite=dfHashtag.filter(dfHashtag[\"hora\"]>=18).union(dfHashtag.filter(dfHashtag[\"hora\"]<6));\n",
    "dfHashtag_noite.count()"
   ]
  },
  {
   "cell_type": "code",
   "execution_count": 239,
   "id": "19dfeb13",
   "metadata": {},
   "outputs": [
    {
     "name": "stdout",
     "output_type": "stream",
     "text": [
      "Top 10 das hastags mais usas pela noite:\n",
      "+--------------------+------+\n",
      "|             hashtag| count|\n",
      "+--------------------+------+\n",
      "| #EMABiggestFansJ...|104327|\n",
      "|   #EMABiggestFans1D|104241|\n",
      "|#EMABiggestFansJu...| 14142|\n",
      "|       #camilasayshi|  9024|\n",
      "|   #EMABiggestFans1D|  8587|\n",
      "|     #TheVoiceBrasil|  2315|\n",
      "|        #DebateNoSBT|  2229|\n",
      "|                  #E|  2037|\n",
      "|        #AssistamODR|  1953|\n",
      "|          #Vote5HEMA|  1952|\n",
      "+--------------------+------+\n",
      "\n"
     ]
    }
   ],
   "source": [
    "print(\"Top 10 das hastags mais usas pela noite:\")\n",
    "dfHashtag_noite.groupBy(\"hashtag\").count().sort('count', ascending=False).limit(10).show()"
   ]
  },
  {
   "cell_type": "markdown",
   "id": "fca907b5",
   "metadata": {},
   "source": [
    "### b) Quais as hashtags mais usadas em cada dia?"
   ]
  },
  {
   "cell_type": "code",
   "execution_count": 268,
   "id": "0eb5b910",
   "metadata": {},
   "outputs": [
    {
     "data": {
      "text/plain": [
       "DataFrame[dia: int, mês: int, hora: int, hashtag: string]"
      ]
     },
     "execution_count": 268,
     "metadata": {},
     "output_type": "execute_result"
    }
   ],
   "source": [
    "dfHashtag_info_data=dfDebateTimestamp.filter(dfDebateTimestamp[\"content\"].rlike(regexHashtag))\\\n",
    ".withColumn(\"hora\",hour(\"timestamp\"))\\\n",
    ".withColumn(\"dia\",dayofmonth(\"timestamp\"))\\\n",
    ".withColumn(\"mês\",month(\"timestamp\"))\\\n",
    ".withColumn(\"hashtag\",regexp_extract(\"content\",regexHashtag,0)).select(\"dia\",\"mês\",\"hora\",\"hashtag\");\n",
    "dfHashtag_info_data"
   ]
  },
  {
   "cell_type": "code",
   "execution_count": 260,
   "id": "70f751c4",
   "metadata": {},
   "outputs": [
    {
     "data": {
      "text/plain": [
       "DataFrame[dia: int, mês: int, hashtag: string]"
      ]
     },
     "execution_count": 260,
     "metadata": {},
     "output_type": "execute_result"
    }
   ],
   "source": [
    "dfHashtag_info_data"
   ]
  },
  {
   "cell_type": "code",
   "execution_count": 245,
   "id": "58b13696",
   "metadata": {},
   "outputs": [
    {
     "name": "stdout",
     "output_type": "stream",
     "text": [
      "As hastags mais usadas por dia:\n"
     ]
    },
    {
     "data": {
      "text/html": [
       "<div>\n",
       "<style scoped>\n",
       "    .dataframe tbody tr th:only-of-type {\n",
       "        vertical-align: middle;\n",
       "    }\n",
       "\n",
       "    .dataframe tbody tr th {\n",
       "        vertical-align: top;\n",
       "    }\n",
       "\n",
       "    .dataframe thead th {\n",
       "        text-align: right;\n",
       "    }\n",
       "</style>\n",
       "<table border=\"1\" class=\"dataframe\">\n",
       "  <thead>\n",
       "    <tr style=\"text-align: right;\">\n",
       "      <th></th>\n",
       "      <th>dia</th>\n",
       "      <th>mês</th>\n",
       "      <th>hashtag</th>\n",
       "      <th>count</th>\n",
       "    </tr>\n",
       "  </thead>\n",
       "  <tbody>\n",
       "    <tr>\n",
       "      <th>0</th>\n",
       "      <td>16.0</td>\n",
       "      <td>10.0</td>\n",
       "      <td>#EMABiggestFans1D</td>\n",
       "      <td>58662</td>\n",
       "    </tr>\n",
       "    <tr>\n",
       "      <th>1</th>\n",
       "      <td>16.0</td>\n",
       "      <td>10.0</td>\n",
       "      <td>#EMABiggestFansJustinBieber</td>\n",
       "      <td>46097</td>\n",
       "    </tr>\n",
       "    <tr>\n",
       "      <th>2</th>\n",
       "      <td>15.0</td>\n",
       "      <td>10.0</td>\n",
       "      <td>#EMABiggestFans1D</td>\n",
       "      <td>43730</td>\n",
       "    </tr>\n",
       "    <tr>\n",
       "      <th>3</th>\n",
       "      <td>15.0</td>\n",
       "      <td>10.0</td>\n",
       "      <td>#EMABiggestFansJustinBieber</td>\n",
       "      <td>40738</td>\n",
       "    </tr>\n",
       "    <tr>\n",
       "      <th>4</th>\n",
       "      <td>17.0</td>\n",
       "      <td>10.0</td>\n",
       "      <td>#EMABiggestFans1D</td>\n",
       "      <td>32530</td>\n",
       "    </tr>\n",
       "    <tr>\n",
       "      <th>...</th>\n",
       "      <td>...</td>\n",
       "      <td>...</td>\n",
       "      <td>...</td>\n",
       "      <td>...</td>\n",
       "    </tr>\n",
       "    <tr>\n",
       "      <th>148127</th>\n",
       "      <td>20.0</td>\n",
       "      <td>10.0</td>\n",
       "      <td>#Tw10000</td>\n",
       "      <td>1</td>\n",
       "    </tr>\n",
       "    <tr>\n",
       "      <th>148128</th>\n",
       "      <td>20.0</td>\n",
       "      <td>10.0</td>\n",
       "      <td>#arisjerome</td>\n",
       "      <td>1</td>\n",
       "    </tr>\n",
       "    <tr>\n",
       "      <th>148129</th>\n",
       "      <td>20.0</td>\n",
       "      <td>10.0</td>\n",
       "      <td>#TeAmoooo</td>\n",
       "      <td>1</td>\n",
       "    </tr>\n",
       "    <tr>\n",
       "      <th>148130</th>\n",
       "      <td>20.0</td>\n",
       "      <td>10.0</td>\n",
       "      <td>#primogato</td>\n",
       "      <td>1</td>\n",
       "    </tr>\n",
       "    <tr>\n",
       "      <th>148131</th>\n",
       "      <td>20.0</td>\n",
       "      <td>10.0</td>\n",
       "      <td>#SemLimites</td>\n",
       "      <td>1</td>\n",
       "    </tr>\n",
       "  </tbody>\n",
       "</table>\n",
       "<p>148132 rows × 4 columns</p>\n",
       "</div>"
      ],
      "text/plain": [
       "         dia   mês                       hashtag  count\n",
       "0       16.0  10.0             #EMABiggestFans1D  58662\n",
       "1       16.0  10.0   #EMABiggestFansJustinBieber  46097\n",
       "2       15.0  10.0             #EMABiggestFans1D  43730\n",
       "3       15.0  10.0   #EMABiggestFansJustinBieber  40738\n",
       "4       17.0  10.0             #EMABiggestFans1D  32530\n",
       "...      ...   ...                           ...    ...\n",
       "148127  20.0  10.0                      #Tw10000      1\n",
       "148128  20.0  10.0                   #arisjerome      1\n",
       "148129  20.0  10.0                     #TeAmoooo      1\n",
       "148130  20.0  10.0                    #primogato      1\n",
       "148131  20.0  10.0                   #SemLimites      1\n",
       "\n",
       "[148132 rows x 4 columns]"
      ]
     },
     "execution_count": 245,
     "metadata": {},
     "output_type": "execute_result"
    }
   ],
   "source": [
    "dfHashtag_dia_final=dfHashtag_info_data.groupBy(\"dia\",\"mês\",\"hashtag\").count().sort(\"count\", ascending=False)\n",
    "print(\"As hastags mais usadas por dia:\")\n",
    "dfHashtag_dia_final.toPandas()"
   ]
  },
  {
   "cell_type": "markdown",
   "id": "76504e9b",
   "metadata": {},
   "source": [
    "### c) Qual o número de tweets por hora a cada dia? "
   ]
  },
  {
   "cell_type": "code",
   "execution_count": 270,
   "id": "f681f1ea",
   "metadata": {},
   "outputs": [
    {
     "name": "stdout",
     "output_type": "stream",
     "text": [
      "As hastags mais usadas por hora a cada dia:\n"
     ]
    },
    {
     "data": {
      "text/html": [
       "<div>\n",
       "<style scoped>\n",
       "    .dataframe tbody tr th:only-of-type {\n",
       "        vertical-align: middle;\n",
       "    }\n",
       "\n",
       "    .dataframe tbody tr th {\n",
       "        vertical-align: top;\n",
       "    }\n",
       "\n",
       "    .dataframe thead th {\n",
       "        text-align: right;\n",
       "    }\n",
       "</style>\n",
       "<table border=\"1\" class=\"dataframe\">\n",
       "  <thead>\n",
       "    <tr style=\"text-align: right;\">\n",
       "      <th></th>\n",
       "      <th>dia</th>\n",
       "      <th>mês</th>\n",
       "      <th>hora</th>\n",
       "      <th>hashtag</th>\n",
       "      <th>count</th>\n",
       "    </tr>\n",
       "  </thead>\n",
       "  <tbody>\n",
       "    <tr>\n",
       "      <th>0</th>\n",
       "      <td>15.0</td>\n",
       "      <td>10.0</td>\n",
       "      <td>22.0</td>\n",
       "      <td>#EMABiggestFansJustinBieber</td>\n",
       "      <td>8738</td>\n",
       "    </tr>\n",
       "    <tr>\n",
       "      <th>1</th>\n",
       "      <td>15.0</td>\n",
       "      <td>10.0</td>\n",
       "      <td>22.0</td>\n",
       "      <td>#camilasayshi</td>\n",
       "      <td>8513</td>\n",
       "    </tr>\n",
       "    <tr>\n",
       "      <th>2</th>\n",
       "      <td>15.0</td>\n",
       "      <td>10.0</td>\n",
       "      <td>23.0</td>\n",
       "      <td>#EMABiggestFans1D</td>\n",
       "      <td>6731</td>\n",
       "    </tr>\n",
       "    <tr>\n",
       "      <th>3</th>\n",
       "      <td>16.0</td>\n",
       "      <td>10.0</td>\n",
       "      <td>22.0</td>\n",
       "      <td>#EMABiggestFansJustinBieber</td>\n",
       "      <td>6504</td>\n",
       "    </tr>\n",
       "    <tr>\n",
       "      <th>4</th>\n",
       "      <td>15.0</td>\n",
       "      <td>10.0</td>\n",
       "      <td>22.0</td>\n",
       "      <td>#EMABiggestFans1D</td>\n",
       "      <td>5994</td>\n",
       "    </tr>\n",
       "    <tr>\n",
       "      <th>...</th>\n",
       "      <td>...</td>\n",
       "      <td>...</td>\n",
       "      <td>...</td>\n",
       "      <td>...</td>\n",
       "      <td>...</td>\n",
       "    </tr>\n",
       "    <tr>\n",
       "      <th>208921</th>\n",
       "      <td>20.0</td>\n",
       "      <td>10.0</td>\n",
       "      <td>2.0</td>\n",
       "      <td>#TeSigoEsperando</td>\n",
       "      <td>1</td>\n",
       "    </tr>\n",
       "    <tr>\n",
       "      <th>208922</th>\n",
       "      <td>20.0</td>\n",
       "      <td>10.0</td>\n",
       "      <td>3.0</td>\n",
       "      <td>#parei</td>\n",
       "      <td>1</td>\n",
       "    </tr>\n",
       "    <tr>\n",
       "      <th>208923</th>\n",
       "      <td>20.0</td>\n",
       "      <td>10.0</td>\n",
       "      <td>4.0</td>\n",
       "      <td>#muitoamorenvolvido</td>\n",
       "      <td>1</td>\n",
       "    </tr>\n",
       "    <tr>\n",
       "      <th>208924</th>\n",
       "      <td>20.0</td>\n",
       "      <td>10.0</td>\n",
       "      <td>4.0</td>\n",
       "      <td>#fui</td>\n",
       "      <td>1</td>\n",
       "    </tr>\n",
       "    <tr>\n",
       "      <th>208925</th>\n",
       "      <td>20.0</td>\n",
       "      <td>10.0</td>\n",
       "      <td>4.0</td>\n",
       "      <td>#ensaiofotogr</td>\n",
       "      <td>1</td>\n",
       "    </tr>\n",
       "  </tbody>\n",
       "</table>\n",
       "<p>208926 rows × 5 columns</p>\n",
       "</div>"
      ],
      "text/plain": [
       "         dia   mês  hora                       hashtag  count\n",
       "0       15.0  10.0  22.0   #EMABiggestFansJustinBieber   8738\n",
       "1       15.0  10.0  22.0                 #camilasayshi   8513\n",
       "2       15.0  10.0  23.0             #EMABiggestFans1D   6731\n",
       "3       16.0  10.0  22.0   #EMABiggestFansJustinBieber   6504\n",
       "4       15.0  10.0  22.0             #EMABiggestFans1D   5994\n",
       "...      ...   ...   ...                           ...    ...\n",
       "208921  20.0  10.0   2.0              #TeSigoEsperando      1\n",
       "208922  20.0  10.0   3.0                        #parei      1\n",
       "208923  20.0  10.0   4.0           #muitoamorenvolvido      1\n",
       "208924  20.0  10.0   4.0                          #fui      1\n",
       "208925  20.0  10.0   4.0                 #ensaiofotogr      1\n",
       "\n",
       "[208926 rows x 5 columns]"
      ]
     },
     "execution_count": 270,
     "metadata": {},
     "output_type": "execute_result"
    }
   ],
   "source": [
    "dfHashtag_hora_final=dfHashtag_info_data.groupBy(\"dia\",\"mês\",\"hora\",\"hashtag\").count().sort(\"count\", ascending=False)\n",
    "print(\"As hastags mais usadas por hora a cada dia:\")\n",
    "dfHashtag_hora_final.toPandas()"
   ]
  },
  {
   "cell_type": "markdown",
   "id": "6aacd510",
   "metadata": {},
   "source": [
    "### d) Quais as principais sentenças relacionadas à palavra “Dilma”?"
   ]
  },
  {
   "cell_type": "code",
   "execution_count": null,
   "id": "ab89aae5",
   "metadata": {},
   "outputs": [],
   "source": []
  },
  {
   "cell_type": "markdown",
   "id": "7d6ff31d",
   "metadata": {},
   "source": [
    "### e) Quais as principais sentenças relacionadas à palavra “Aécio”?"
   ]
  },
  {
   "cell_type": "code",
   "execution_count": null,
   "id": "0a4eb1e2",
   "metadata": {},
   "outputs": [],
   "source": []
  },
  {
   "cell_type": "markdown",
   "id": "5ea718c7",
   "metadata": {},
   "source": [
    "### Questão 3) Dado um dataset com tweets relacionados à visita da Torre Eiffel em Paris, responda:"
   ]
  },
  {
   "cell_type": "code",
   "execution_count": 273,
   "id": "d4dd23a6",
   "metadata": {},
   "outputs": [
    {
     "data": {
      "text/plain": [
       "DataFrame[_id: struct<$oid:string>, author: struct<helpfulVotes:string,level:string,memberSince:string,postForum:string,ratings:string,reviews:string>, bubbleCount: bigint, collectedAt: struct<$date:string>, createdAt: string, query: string, text: string, title: string]"
      ]
     },
     "execution_count": 273,
     "metadata": {},
     "output_type": "execute_result"
    }
   ],
   "source": [
    "dfEiffel = spark.read.json(\"eiffel-tower-reviews.json\")\n",
    "dfEiffel"
   ]
  },
  {
   "cell_type": "code",
   "execution_count": 278,
   "id": "a01b3ff4",
   "metadata": {},
   "outputs": [
    {
     "data": {
      "text/html": [
       "<div>\n",
       "<style scoped>\n",
       "    .dataframe tbody tr th:only-of-type {\n",
       "        vertical-align: middle;\n",
       "    }\n",
       "\n",
       "    .dataframe tbody tr th {\n",
       "        vertical-align: top;\n",
       "    }\n",
       "\n",
       "    .dataframe thead th {\n",
       "        text-align: right;\n",
       "    }\n",
       "</style>\n",
       "<table border=\"1\" class=\"dataframe\">\n",
       "  <thead>\n",
       "    <tr style=\"text-align: right;\">\n",
       "      <th></th>\n",
       "      <th>_id</th>\n",
       "      <th>author</th>\n",
       "      <th>bubbleCount</th>\n",
       "      <th>collectedAt</th>\n",
       "      <th>createdAt</th>\n",
       "      <th>query</th>\n",
       "      <th>text</th>\n",
       "      <th>title</th>\n",
       "    </tr>\n",
       "  </thead>\n",
       "  <tbody>\n",
       "    <tr>\n",
       "      <th>0</th>\n",
       "      <td>(5921cdae4b679c4646a52f57,)</td>\n",
       "      <td>(0, 0, Since this month, 0, 0, 2)</td>\n",
       "      <td>50</td>\n",
       "      <td>(2017-05-21T17:26:06.452Z,)</td>\n",
       "      <td>May 20, 2017</td>\n",
       "      <td>Eiffel_Tower</td>\n",
       "      <td>This is the most busiest atttaction in Paris a...</td>\n",
       "      <td>Must do even it was so busy</td>\n",
       "    </tr>\n",
       "    <tr>\n",
       "      <th>1</th>\n",
       "      <td>(5921cdae4b679c4646a52f58,)</td>\n",
       "      <td>(10, 4, Since Aug 2015, 0, 23, 27)</td>\n",
       "      <td>50</td>\n",
       "      <td>(2017-05-21T17:26:06.590Z,)</td>\n",
       "      <td>May 20, 2017</td>\n",
       "      <td>Eiffel_Tower</td>\n",
       "      <td>My significant other and I drunkenly stumbled ...</td>\n",
       "      <td>A Classic</td>\n",
       "    </tr>\n",
       "    <tr>\n",
       "      <th>2</th>\n",
       "      <td>(5921cdae4b679c4646a52f59,)</td>\n",
       "      <td>(9, 4, Since Nov 2015, 0, 0, 31)</td>\n",
       "      <td>50</td>\n",
       "      <td>(2017-05-21T17:26:06.642Z,)</td>\n",
       "      <td>May 20, 2017</td>\n",
       "      <td>Eiffel_Tower</td>\n",
       "      <td>We had a tour to the Eiffel Tower while we wer...</td>\n",
       "      <td>Wet weather</td>\n",
       "    </tr>\n",
       "    <tr>\n",
       "      <th>3</th>\n",
       "      <td>(5921cdae4b679c4646a52f5a,)</td>\n",
       "      <td>(16, 5, Since Apr 2008, 0, 536, 37)</td>\n",
       "      <td>50</td>\n",
       "      <td>(2017-05-21T17:26:06.721Z,)</td>\n",
       "      <td>May 20, 2017</td>\n",
       "      <td>Eiffel_Tower</td>\n",
       "      <td>Visited with my wife and son.</td>\n",
       "      <td>Not to be missed</td>\n",
       "    </tr>\n",
       "    <tr>\n",
       "      <th>4</th>\n",
       "      <td>(5921cdae4b679c4646a52f5b,)</td>\n",
       "      <td>(30, 6, Since Jan 2014, 0, 36, 181)</td>\n",
       "      <td>50</td>\n",
       "      <td>(2017-05-21T17:26:06.757Z,)</td>\n",
       "      <td>May 20, 2017</td>\n",
       "      <td>Eiffel_Tower</td>\n",
       "      <td>We went in the night at 10pm to see the illumi...</td>\n",
       "      <td>Awesome!!!</td>\n",
       "    </tr>\n",
       "    <tr>\n",
       "      <th>...</th>\n",
       "      <td>...</td>\n",
       "      <td>...</td>\n",
       "      <td>...</td>\n",
       "      <td>...</td>\n",
       "      <td>...</td>\n",
       "      <td>...</td>\n",
       "      <td>...</td>\n",
       "      <td>...</td>\n",
       "    </tr>\n",
       "    <tr>\n",
       "      <th>7174</th>\n",
       "      <td>(59226b566af3a1312785d4f3,)</td>\n",
       "      <td>(0, 0, Since Jul 2015, 0, 0, 2)</td>\n",
       "      <td>30</td>\n",
       "      <td>(2017-05-22T04:38:46.565Z,)</td>\n",
       "      <td>July 27, 2015</td>\n",
       "      <td>Eiffel_Tower</td>\n",
       "      <td>We recently visited the Eiffel Tower on our tr...</td>\n",
       "      <td>Tour me Eiffel</td>\n",
       "    </tr>\n",
       "    <tr>\n",
       "      <th>7175</th>\n",
       "      <td>(59226b566af3a1312785d4f4,)</td>\n",
       "      <td>(13, 4, Since May 2009, 0, 15, 31)</td>\n",
       "      <td>40</td>\n",
       "      <td>(2017-05-22T04:38:46.712Z,)</td>\n",
       "      <td>July 27, 2015</td>\n",
       "      <td>Eiffel_Tower</td>\n",
       "      <td>Getting through the lines is impossible or at ...</td>\n",
       "      <td>Bucket list must see</td>\n",
       "    </tr>\n",
       "    <tr>\n",
       "      <th>7176</th>\n",
       "      <td>(59226b566af3a1312785d4f5,)</td>\n",
       "      <td>(47, 5, Since Oct 2010, 0, 1, 76)</td>\n",
       "      <td>50</td>\n",
       "      <td>(2017-05-22T04:38:46.854Z,)</td>\n",
       "      <td>July 27, 2015</td>\n",
       "      <td>Eiffel_Tower</td>\n",
       "      <td>One must not be there to be served and one wil...</td>\n",
       "      <td>Crowded with awful staff. But who cares? It's ...</td>\n",
       "    </tr>\n",
       "    <tr>\n",
       "      <th>7177</th>\n",
       "      <td>(59226b566af3a1312785d4f6,)</td>\n",
       "      <td>(0, 2, Since Aug 2012, 0, 0, 6)</td>\n",
       "      <td>50</td>\n",
       "      <td>(2017-05-22T04:38:46.947Z,)</td>\n",
       "      <td>July 27, 2015</td>\n",
       "      <td>Eiffel_Tower</td>\n",
       "      <td>Loved the Eiffel tower this was my 2nd visit a...</td>\n",
       "      <td>AMAZING</td>\n",
       "    </tr>\n",
       "    <tr>\n",
       "      <th>7178</th>\n",
       "      <td>(59226b576af3a1312785d4f7,)</td>\n",
       "      <td>(22, 5, Since Nov 2012, 5, 11, 73)</td>\n",
       "      <td>50</td>\n",
       "      <td>(2017-05-22T04:38:47.050Z,)</td>\n",
       "      <td>July 27, 2015</td>\n",
       "      <td>Eiffel_Tower</td>\n",
       "      <td>Great experience to go the the Eiffel Tower. M...</td>\n",
       "      <td>Go to the very top!</td>\n",
       "    </tr>\n",
       "  </tbody>\n",
       "</table>\n",
       "<p>7179 rows × 8 columns</p>\n",
       "</div>"
      ],
      "text/plain": [
       "                              _id                               author  \\\n",
       "0     (5921cdae4b679c4646a52f57,)    (0, 0, Since this month, 0, 0, 2)   \n",
       "1     (5921cdae4b679c4646a52f58,)   (10, 4, Since Aug 2015, 0, 23, 27)   \n",
       "2     (5921cdae4b679c4646a52f59,)     (9, 4, Since Nov 2015, 0, 0, 31)   \n",
       "3     (5921cdae4b679c4646a52f5a,)  (16, 5, Since Apr 2008, 0, 536, 37)   \n",
       "4     (5921cdae4b679c4646a52f5b,)  (30, 6, Since Jan 2014, 0, 36, 181)   \n",
       "...                           ...                                  ...   \n",
       "7174  (59226b566af3a1312785d4f3,)      (0, 0, Since Jul 2015, 0, 0, 2)   \n",
       "7175  (59226b566af3a1312785d4f4,)   (13, 4, Since May 2009, 0, 15, 31)   \n",
       "7176  (59226b566af3a1312785d4f5,)    (47, 5, Since Oct 2010, 0, 1, 76)   \n",
       "7177  (59226b566af3a1312785d4f6,)      (0, 2, Since Aug 2012, 0, 0, 6)   \n",
       "7178  (59226b576af3a1312785d4f7,)   (22, 5, Since Nov 2012, 5, 11, 73)   \n",
       "\n",
       "      bubbleCount                  collectedAt      createdAt         query  \\\n",
       "0              50  (2017-05-21T17:26:06.452Z,)   May 20, 2017  Eiffel_Tower   \n",
       "1              50  (2017-05-21T17:26:06.590Z,)   May 20, 2017  Eiffel_Tower   \n",
       "2              50  (2017-05-21T17:26:06.642Z,)   May 20, 2017  Eiffel_Tower   \n",
       "3              50  (2017-05-21T17:26:06.721Z,)   May 20, 2017  Eiffel_Tower   \n",
       "4              50  (2017-05-21T17:26:06.757Z,)   May 20, 2017  Eiffel_Tower   \n",
       "...           ...                          ...            ...           ...   \n",
       "7174           30  (2017-05-22T04:38:46.565Z,)  July 27, 2015  Eiffel_Tower   \n",
       "7175           40  (2017-05-22T04:38:46.712Z,)  July 27, 2015  Eiffel_Tower   \n",
       "7176           50  (2017-05-22T04:38:46.854Z,)  July 27, 2015  Eiffel_Tower   \n",
       "7177           50  (2017-05-22T04:38:46.947Z,)  July 27, 2015  Eiffel_Tower   \n",
       "7178           50  (2017-05-22T04:38:47.050Z,)  July 27, 2015  Eiffel_Tower   \n",
       "\n",
       "                                                   text  \\\n",
       "0     This is the most busiest atttaction in Paris a...   \n",
       "1     My significant other and I drunkenly stumbled ...   \n",
       "2     We had a tour to the Eiffel Tower while we wer...   \n",
       "3                         Visited with my wife and son.   \n",
       "4     We went in the night at 10pm to see the illumi...   \n",
       "...                                                 ...   \n",
       "7174  We recently visited the Eiffel Tower on our tr...   \n",
       "7175  Getting through the lines is impossible or at ...   \n",
       "7176  One must not be there to be served and one wil...   \n",
       "7177  Loved the Eiffel tower this was my 2nd visit a...   \n",
       "7178  Great experience to go the the Eiffel Tower. M...   \n",
       "\n",
       "                                                  title  \n",
       "0                           Must do even it was so busy  \n",
       "1                                             A Classic  \n",
       "2                                           Wet weather  \n",
       "3                                      Not to be missed  \n",
       "4                                            Awesome!!!  \n",
       "...                                                 ...  \n",
       "7174                                     Tour me Eiffel  \n",
       "7175                               Bucket list must see  \n",
       "7176  Crowded with awful staff. But who cares? It's ...  \n",
       "7177                                            AMAZING  \n",
       "7178                                Go to the very top!  \n",
       "\n",
       "[7179 rows x 8 columns]"
      ]
     },
     "execution_count": 278,
     "metadata": {},
     "output_type": "execute_result"
    }
   ],
   "source": [
    "dfEiffel.toPandas()"
   ]
  },
  {
   "cell_type": "code",
   "execution_count": 283,
   "id": "cb9ca446",
   "metadata": {},
   "outputs": [
    {
     "ename": "AttributeError",
     "evalue": "'DataFrame' object has no attribute 'flatMap'",
     "output_type": "error",
     "traceback": [
      "\u001b[1;31m---------------------------------------------------------------------------\u001b[0m",
      "\u001b[1;31mAttributeError\u001b[0m                            Traceback (most recent call last)",
      "\u001b[1;32m~\\AppData\\Local\\Temp\\ipykernel_1796\\3071874001.py\u001b[0m in \u001b[0;36m<module>\u001b[1;34m\u001b[0m\n\u001b[0;32m      1\u001b[0m \u001b[1;32mfrom\u001b[0m \u001b[0mpyspark\u001b[0m \u001b[1;32mimport\u001b[0m \u001b[0mSparkContext\u001b[0m\u001b[1;33m\u001b[0m\u001b[1;33m\u001b[0m\u001b[0m\n\u001b[1;32m----> 2\u001b[1;33m \u001b[0mdfEiffel\u001b[0m\u001b[1;33m=\u001b[0m\u001b[0mdfEiffel\u001b[0m\u001b[1;33m.\u001b[0m\u001b[0mflatMap\u001b[0m\u001b[1;33m(\u001b[0m\u001b[1;32mlambda\u001b[0m \u001b[0mline\u001b[0m\u001b[1;33m:\u001b[0m \u001b[0mline\u001b[0m\u001b[1;33m.\u001b[0m\u001b[0msplit\u001b[0m\u001b[1;33m(\u001b[0m\u001b[1;34m\" \"\u001b[0m\u001b[1;33m)\u001b[0m\u001b[1;33m)\u001b[0m\u001b[1;33m.\u001b[0m\u001b[0mmap\u001b[0m\u001b[1;33m(\u001b[0m\u001b[1;32mlambda\u001b[0m \u001b[0mword\u001b[0m\u001b[1;33m:\u001b[0m \u001b[1;33m(\u001b[0m\u001b[0mword\u001b[0m\u001b[1;33m,\u001b[0m \u001b[1;36m1\u001b[0m\u001b[1;33m)\u001b[0m\u001b[1;33m)\u001b[0m\u001b[1;33m\u001b[0m\u001b[1;33m\u001b[0m\u001b[0m\n\u001b[0m\u001b[0;32m      3\u001b[0m \u001b[0mdfEiffel\u001b[0m\u001b[1;33m.\u001b[0m\u001b[0mcount\u001b[0m\u001b[1;33m(\u001b[0m\u001b[1;33m)\u001b[0m\u001b[1;33m\u001b[0m\u001b[1;33m\u001b[0m\u001b[0m\n",
      "\u001b[1;32mC:\\ProgramData\\Anaconda3\\lib\\site-packages\\pyspark\\sql\\dataframe.py\u001b[0m in \u001b[0;36m__getattr__\u001b[1;34m(self, name)\u001b[0m\n\u001b[0;32m   1986\u001b[0m         \"\"\"\n\u001b[0;32m   1987\u001b[0m         \u001b[1;32mif\u001b[0m \u001b[0mname\u001b[0m \u001b[1;32mnot\u001b[0m \u001b[1;32min\u001b[0m \u001b[0mself\u001b[0m\u001b[1;33m.\u001b[0m\u001b[0mcolumns\u001b[0m\u001b[1;33m:\u001b[0m\u001b[1;33m\u001b[0m\u001b[1;33m\u001b[0m\u001b[0m\n\u001b[1;32m-> 1988\u001b[1;33m             raise AttributeError(\n\u001b[0m\u001b[0;32m   1989\u001b[0m                 \u001b[1;34m\"'%s' object has no attribute '%s'\"\u001b[0m \u001b[1;33m%\u001b[0m \u001b[1;33m(\u001b[0m\u001b[0mself\u001b[0m\u001b[1;33m.\u001b[0m\u001b[0m__class__\u001b[0m\u001b[1;33m.\u001b[0m\u001b[0m__name__\u001b[0m\u001b[1;33m,\u001b[0m \u001b[0mname\u001b[0m\u001b[1;33m)\u001b[0m\u001b[1;33m\u001b[0m\u001b[1;33m\u001b[0m\u001b[0m\n\u001b[0;32m   1990\u001b[0m             )\n",
      "\u001b[1;31mAttributeError\u001b[0m: 'DataFrame' object has no attribute 'flatMap'"
     ]
    }
   ],
   "source": [
    "from pyspark import SparkContext\n",
    "dfEiffel=dfEiffel.flatMap(lambda line: line.split(\" \")).map(lambda word: (word, 1))\n",
    "dfEiffel.count()"
   ]
  },
  {
   "cell_type": "markdown",
   "id": "c66b02f4",
   "metadata": {},
   "source": [
    "### a) Encontre as palavras mais utilizadas nas avaliações."
   ]
  },
  {
   "cell_type": "code",
   "execution_count": null,
   "id": "78fb9ceb",
   "metadata": {},
   "outputs": [],
   "source": []
  },
  {
   "cell_type": "markdown",
   "id": "8fef5b8b",
   "metadata": {},
   "source": [
    "### b) Encontre as expressões mais usadas. Considere uma expressão um conjunto de palavras na sequencia. O tamanho da sequencia pode ser determinado por você."
   ]
  },
  {
   "cell_type": "code",
   "execution_count": null,
   "id": "00a4fc41",
   "metadata": {},
   "outputs": [],
   "source": []
  },
  {
   "cell_type": "markdown",
   "id": "dd25be44",
   "metadata": {},
   "source": [
    "### c) Encontre os principais tópicos relacionados às revisões."
   ]
  },
  {
   "cell_type": "code",
   "execution_count": null,
   "id": "5e52c749",
   "metadata": {},
   "outputs": [],
   "source": []
  },
  {
   "cell_type": "markdown",
   "id": "07ddcf78",
   "metadata": {},
   "source": [
    "### d) Mapeie a distribuição temporal das revisões."
   ]
  },
  {
   "cell_type": "code",
   "execution_count": null,
   "id": "dad88703",
   "metadata": {},
   "outputs": [],
   "source": []
  }
 ],
 "metadata": {
  "kernelspec": {
   "display_name": "Python 3 (ipykernel)",
   "language": "python",
   "name": "python3"
  },
  "language_info": {
   "codemirror_mode": {
    "name": "ipython",
    "version": 3
   },
   "file_extension": ".py",
   "mimetype": "text/x-python",
   "name": "python",
   "nbconvert_exporter": "python",
   "pygments_lexer": "ipython3",
   "version": "3.9.13"
  }
 },
 "nbformat": 4,
 "nbformat_minor": 5
}
